{
 "cells": [
  {
   "cell_type": "code",
   "execution_count": 25,
   "metadata": {},
   "outputs": [],
   "source": [
    "import json\n",
    "import numpy as np\n",
    "import xml.etree.ElementTree as ET"
   ]
  },
  {
   "cell_type": "code",
   "execution_count": 50,
   "metadata": {},
   "outputs": [],
   "source": [
    "def ExtractSumoNet(tree_path):\n",
    "\n",
    "    # 读取XML文件\n",
    "    tree = ET.parse(tree_path)\n",
    "    root = tree.getroot()\n",
    "\n",
    "    # 遍历XML元素\n",
    "    roads={}\n",
    "    for element in root:\n",
    "        if element.tag=='edge':\n",
    "            for attr,value in element.attrib.items():\n",
    "                if attr=='id' and len(value.split('_'))==3 and 'road' in value:\n",
    "                    for at,va in element[0].attrib.items():\n",
    "                        if at=='shape':\n",
    "                            p1=va.split(' ')[0].split(',')\n",
    "                    for at,va in element[-1].attrib.items():\n",
    "                        if at=='shape':\n",
    "                            p2=va.split(' ')[1].split(',')\n",
    "                    roads[value]=[float(i) for i in p1+p2]\n",
    "\n",
    "\n",
    "    return roads"
   ]
  },
  {
   "cell_type": "code",
   "execution_count": 109,
   "metadata": {},
   "outputs": [],
   "source": [
    "tree_path='./SH2_edit.net.xml'\n",
    "\n",
    "\n",
    "roads=ExtractSumoNet(tree_path)\n",
    "roadnet=json.load(open('./SH2/roadnet.json','r'))\n",
    "\n",
    "# 修改道路\n",
    "cityroads=roadnet['roads']\n",
    "for road in cityroads:\n",
    "    points=roads[road['id']]\n",
    "    road['points']=[{'x':points[0],'y':points[1]},{'x':points[2],'y':points[3]}]\n",
    "\n",
    "\n",
    "# 修改交叉口\n",
    "intersections=roadnet['intersections']\n",
    "tlsPos={}\n",
    "tls=dict(zip([k for k in roads.keys()],[v[2:] for v in roads.values()]))\n",
    "inters=[k.split('_')[-1] for k in tls.keys()]\n",
    "for inter in inters:\n",
    "    center=np.array([tls[k] for k in tls.keys() if inter==k.split('_')[-1]])\n",
    "    x,y=center[:,0].mean(),center[:,1].mean()\n",
    "    tlsPos.update({'inter_'+inter:{\"x\":x,\"y\":y}})  \n",
    "\n",
    "for it in intersections:\n",
    "    it['point']=tlsPos[it['id']]\n",
    "\n",
    "roadnet['roads']=cityroads\n",
    "roadnet['intersections']=intersections\n",
    "roadnet=json.dumps(roadnet,indent=2)\n",
    "with open('./SH2/roadnet.json','w') as f:\n",
    "    f.write(roadnet)\n"
   ]
  }
 ],
 "metadata": {
  "kernelspec": {
   "display_name": "CreditCard",
   "language": "python",
   "name": "python3"
  },
  "language_info": {
   "codemirror_mode": {
    "name": "ipython",
    "version": 3
   },
   "file_extension": ".py",
   "mimetype": "text/x-python",
   "name": "python",
   "nbconvert_exporter": "python",
   "pygments_lexer": "ipython3",
   "version": "3.9.18"
  }
 },
 "nbformat": 4,
 "nbformat_minor": 2
}
